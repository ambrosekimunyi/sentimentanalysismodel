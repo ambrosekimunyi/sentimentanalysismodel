{
  "cells": [
    {
      "cell_type": "code",
      "execution_count": null,
      "metadata": {
        "id": "5bb5Dhb_4boC"
      },
      "outputs": [],
      "source": [
        "#Ambrose Nzioki Kimunyi\n",
        "#COM/B/01-00174/2017\n",
        "\n",
        "import numpy as np # linear algebra\n",
        "import pandas as pd\n"
      ]
    },
    {
      "cell_type": "code",
      "execution_count": null,
      "metadata": {
        "id": "F4fj1LmhdGuZ"
      },
      "outputs": [],
      "source": [
        "from google.colab import drive"
      ]
    },
    {
      "cell_type": "code",
      "execution_count": null,
      "metadata": {
        "id": "_xe0nslY4ki1"
      },
      "outputs": [],
      "source": [
        "import os\n",
        "for dirname, _, filenames in os.walk('/content/drive/MyDrive/sentiment/data.csv'):\n",
        "    for filename in filenames:\n",
        "        print(os.path.join(dirname, filename))"
      ]
    },
    {
      "cell_type": "code",
      "execution_count": null,
      "metadata": {
        "colab": {
          "base_uri": "https://localhost:8080/"
        },
        "id": "09AzU74P5DeD",
        "outputId": "bfa12b02-b641-4b31-9ec7-aa9eda33e64a"
      },
      "outputs": [
        {
          "name": "stdout",
          "output_type": "stream",
          "text": [
            "Requirement already satisfied: gensim in /usr/local/lib/python3.7/dist-packages (3.6.0)\n",
            "Collecting gensim\n",
            "  Downloading gensim-4.1.2-cp37-cp37m-manylinux_2_12_x86_64.manylinux2010_x86_64.whl (24.1 MB)\n",
            "\u001b[K     |████████████████████████████████| 24.1 MB 2.8 kB/s \n",
            "\u001b[?25hRequirement already satisfied: numpy>=1.17.0 in /usr/local/lib/python3.7/dist-packages (from gensim) (1.19.5)\n",
            "Requirement already satisfied: scipy>=0.18.1 in /usr/local/lib/python3.7/dist-packages (from gensim) (1.4.1)\n",
            "Requirement already satisfied: smart-open>=1.8.1 in /usr/local/lib/python3.7/dist-packages (from gensim) (5.2.1)\n",
            "Installing collected packages: gensim\n",
            "  Attempting uninstall: gensim\n",
            "    Found existing installation: gensim 3.6.0\n",
            "    Uninstalling gensim-3.6.0:\n",
            "      Successfully uninstalled gensim-3.6.0\n",
            "Successfully installed gensim-4.1.2\n"
          ]
        }
      ],
      "source": [
        "!pip install gensim --upgrade"
      ]
    },
    {
      "cell_type": "code",
      "execution_count": null,
      "metadata": {
        "colab": {
          "base_uri": "https://localhost:8080/"
        },
        "id": "gO6XEyJE5LrU",
        "outputId": "57af806b-5d5e-4006-82c5-59bfb14c4fd0"
      },
      "outputs": [
        {
          "name": "stdout",
          "output_type": "stream",
          "text": [
            "Requirement already satisfied: keras in /usr/local/lib/python3.7/dist-packages (2.7.0)\n"
          ]
        }
      ],
      "source": [
        "\n",
        "\n",
        "!pip install keras --upgrade"
      ]
    },
    {
      "cell_type": "code",
      "execution_count": null,
      "metadata": {
        "colab": {
          "base_uri": "https://localhost:8080/",
          "height": 419
        },
        "id": "nxsMJFl_5Pm-",
        "outputId": "1ea952a2-2e14-4af1-de38-108f9374608b"
      },
      "outputs": [
        {
          "name": "stdout",
          "output_type": "stream",
          "text": [
            "Requirement already satisfied: pandas in /usr/local/lib/python3.7/dist-packages (1.1.5)\n",
            "Collecting pandas\n",
            "  Downloading pandas-1.3.4-cp37-cp37m-manylinux_2_17_x86_64.manylinux2014_x86_64.whl (11.3 MB)\n",
            "\u001b[K     |████████████████████████████████| 11.3 MB 5.2 MB/s \n",
            "\u001b[?25hRequirement already satisfied: python-dateutil>=2.7.3 in /usr/local/lib/python3.7/dist-packages (from pandas) (2.8.2)\n",
            "Requirement already satisfied: numpy>=1.17.3 in /usr/local/lib/python3.7/dist-packages (from pandas) (1.19.5)\n",
            "Requirement already satisfied: pytz>=2017.3 in /usr/local/lib/python3.7/dist-packages (from pandas) (2018.9)\n",
            "Requirement already satisfied: six>=1.5 in /usr/local/lib/python3.7/dist-packages (from python-dateutil>=2.7.3->pandas) (1.15.0)\n",
            "Installing collected packages: pandas\n",
            "  Attempting uninstall: pandas\n",
            "    Found existing installation: pandas 1.1.5\n",
            "    Uninstalling pandas-1.1.5:\n",
            "      Successfully uninstalled pandas-1.1.5\n",
            "\u001b[31mERROR: pip's dependency resolver does not currently take into account all the packages that are installed. This behaviour is the source of the following dependency conflicts.\n",
            "google-colab 1.0.0 requires pandas~=1.1.0; python_version >= \"3.0\", but you have pandas 1.3.4 which is incompatible.\u001b[0m\n",
            "Successfully installed pandas-1.3.4\n"
          ]
        },
        {
          "data": {
            "application/vnd.colab-display-data+json": {
              "pip_warning": {
                "packages": [
                  "pandas"
                ]
              }
            }
          },
          "metadata": {},
          "output_type": "display_data"
        }
      ],
      "source": [
        "!pip install pandas --upgrade"
      ]
    },
    {
      "cell_type": "code",
      "execution_count": null,
      "metadata": {
        "id": "7B0Zw1055SHo"
      },
      "outputs": [],
      "source": [
        "# DataFrame\n",
        "import pandas as pd\n",
        "\n",
        "# Matplot\n",
        "import matplotlib.pyplot as plt\n",
        "%matplotlib inline\n",
        "\n",
        "# Scikit-learn\n",
        "from sklearn.model_selection import train_test_split\n",
        "from sklearn.preprocessing import LabelEncoder\n",
        "from sklearn.metrics import confusion_matrix, classification_report, accuracy_score\n",
        "from sklearn.manifold import TSNE\n",
        "from sklearn.feature_extraction.text import TfidfVectorizer\n",
        "\n",
        "# Keras\n",
        "from keras.preprocessing.text import Tokenizer\n",
        "from keras.preprocessing.sequence import pad_sequences\n",
        "from keras.models import Sequential\n",
        "from keras.layers import Activation, Dense, Dropout, Embedding, Flatten, Conv1D, MaxPooling1D, LSTM\n",
        "from keras import utils\n",
        "from keras.callbacks import ReduceLROnPlateau, EarlyStopping\n",
        "\n",
        "# nltk\n",
        "import nltk\n",
        "from nltk.corpus import stopwords\n",
        "from  nltk.stem import SnowballStemmer\n",
        "\n",
        "# Word2vec\n",
        "import gensim\n",
        "\n",
        "# Utility\n",
        "import re\n",
        "import numpy as np\n",
        "import os\n",
        "from collections import Counter\n",
        "import logging\n",
        "import time\n",
        "import pickle\n",
        "import itertools\n",
        "\n",
        "# Set log\n",
        "logging.basicConfig(format='%(asctime)s : %(levelname)s : %(message)s', level=logging.INFO)"
      ]
    },
    {
      "cell_type": "code",
      "execution_count": null,
      "metadata": {
        "colab": {
          "base_uri": "https://localhost:8080/"
        },
        "id": "fBy-IIWd5kcH",
        "outputId": "3458d188-900c-44ea-fcc9-43de30bde9cd"
      },
      "outputs": [
        {
          "name": "stdout",
          "output_type": "stream",
          "text": [
            "[nltk_data] Downloading package stopwords to /root/nltk_data...\n",
            "[nltk_data]   Unzipping corpora/stopwords.zip.\n"
          ]
        },
        {
          "data": {
            "text/plain": [
              "True"
            ]
          },
          "execution_count": 10,
          "metadata": {},
          "output_type": "execute_result"
        }
      ],
      "source": [
        "nltk.download('stopwords')"
      ]
    },
    {
      "cell_type": "code",
      "execution_count": null,
      "metadata": {
        "id": "-LGGVFCZ5ptV"
      },
      "outputs": [],
      "source": [
        "\n",
        "# DATASET\n",
        "DATASET_COLUMNS = [\"target\", \"ids\", \"date\", \"flag\", \"user\", \"text\"]\n",
        "DATASET_ENCODING = \"ISO-8859-1\"\n",
        "TRAIN_SIZE = 0.8\n",
        "\n",
        "# TEXT CLENAING\n",
        "TEXT_CLEANING_RE = \"@\\S+|https?:\\S+|http?:\\S|[^A-Za-z0-9]+\"\n",
        "\n",
        "W2V_SIZE = 300\n",
        "W2V_WINDOW = 7\n",
        "W2V_EPOCH = 32\n",
        "W2V_MIN_COUNT = 10\n",
        "\n",
        "# KERAS\n",
        "SEQUENCE_LENGTH = 300\n",
        "EPOCHS = 8\n",
        "BATCH_SIZE = 1024\n",
        "\n",
        "# SENTIMENT\n",
        "POSITIVE = \"POSITIVE\"\n",
        "NEGATIVE = \"NEGATIVE\"\n",
        "NEUTRAL = \"NEUTRAL\"\n",
        "SENTIMENT_THRESHOLDS = (0.4, 0.7)\n",
        "\n",
        "# EXPORT\n",
        "KERAS_MODEL = \"model.h5\"\n",
        "WORD2VEC_MODEL = \"model.w2v\"\n",
        "TOKENIZER_MODEL = \"tokenizer.pkl\"\n",
        "ENCODER_MODEL = \"encoder.pkl\""
      ]
    },
    {
      "cell_type": "code",
      "execution_count": null,
      "metadata": {
        "id": "7ici0N8hypU8"
      },
      "outputs": [],
      "source": [
        "df = pd.read_csv(\"/content/drive/MyDrive/sentiment/data.csv\", encoding =DATASET_ENCODING , names=DATASET_COLUMNS)"
      ]
    },
    {
      "cell_type": "code",
      "execution_count": null,
      "metadata": {
        "id": "kuSytSaL8Pek"
      },
      "outputs": [],
      "source": [
        "decode_map = {0: \"NEGATIVE\", 2: \"NEUTRAL\", 4: \"POSITIVE\"}\n",
        "def decode_sentiment(label):\n",
        "    return decode_map[int(label)]"
      ]
    },
    {
      "cell_type": "code",
      "execution_count": null,
      "metadata": {
        "colab": {
          "base_uri": "https://localhost:8080/"
        },
        "id": "U2lx0tEte7AZ",
        "outputId": "59af55be-5451-4b01-8199-7c170ce15fa1"
      },
      "outputs": [
        {
          "name": "stdout",
          "output_type": "stream",
          "text": [
            "CPU times: user 399 ms, sys: 6.16 ms, total: 405 ms\n",
            "Wall time: 409 ms\n"
          ]
        }
      ],
      "source": [
        "%%time\n",
        "df.target = df.target.apply(lambda x: decode_sentiment(x))"
      ]
    },
    {
      "cell_type": "code",
      "execution_count": null,
      "metadata": {
        "colab": {
          "base_uri": "https://localhost:8080/",
          "height": 517
        },
        "id": "AB6YZ9i-8T5y",
        "outputId": "4388c7c6-85c6-4c91-a2d8-d690f2a62b8d"
      },
      "outputs": [
        {
          "data": {
            "text/plain": [
              "Text(0.5, 1.0, 'Dataset labels distribuition')"
            ]
          },
          "execution_count": 15,
          "metadata": {},
          "output_type": "execute_result"
        },
        {
          "data": {
            "image/png": "[encoded data removed]",
            "text/plain": [
              "<Figure size 1152x576 with 1 Axes>"
            ]
          },
          "metadata": {},
          "output_type": "display_data"
        }
      ],
      "source": [
        "target_cnt = Counter(df.target)\n",
        "\n",
        "plt.figure(figsize=(16,8))\n",
        "plt.bar(target_cnt.keys(), target_cnt.values())\n",
        "plt.title(\"Dataset labels distribuition\")"
      ]
    },
    {
      "cell_type": "code",
      "execution_count": null,
      "metadata": {
        "id": "s2m2SjU58WMs"
      },
      "outputs": [],
      "source": [
        "stop_words = stopwords.words(\"english\")\n",
        "stemmer = SnowballStemmer(\"english\")"
      ]
    },
    {
      "cell_type": "code",
      "execution_count": null,
      "metadata": {
        "id": "J9v5n_vw8Z6X"
      },
      "outputs": [],
      "source": [
        "def preprocess(text, stem=False):\n",
        "    # Remove link,user and special characters\n",
        "    text = re.sub(TEXT_CLEANING_RE, ' ', str(text).lower()).strip()\n",
        "    tokens = []\n",
        "    for token in text.split():\n",
        "        if token not in stop_words:\n",
        "            if stem:\n",
        "                tokens.append(stemmer.stem(token))\n",
        "            else:\n",
        "                tokens.append(token)\n",
        "    return \" \".join(tokens)"
      ]
    },
    {
      "cell_type": "code",
      "execution_count": null,
      "metadata": {
        "colab": {
          "base_uri": "https://localhost:8080/"
        },
        "id": "A2j6lw-S8dHv",
        "outputId": "e9cbc79e-0167-43b4-be3a-8a5e8993b2ce"
      },
      "outputs": [
        {
          "name": "stdout",
          "output_type": "stream",
          "text": [
            "CPU times: user 37.1 s, sys: 220 ms, total: 37.3 s\n",
            "Wall time: 37.3 s\n"
          ]
        }
      ],
      "source": [
        "%%time\n",
        "df.text = df.text.apply(lambda x: preprocess(x))"
      ]
    },
    {
      "cell_type": "code",
      "execution_count": null,
      "metadata": {
        "colab": {
          "base_uri": "https://localhost:8080/"
        },
        "id": "5j8Yef4G8gDC",
        "outputId": "51180514-4ffe-47f6-f67f-9c67c0b0a4e2"
      },
      "outputs": [
        {
          "name": "stdout",
          "output_type": "stream",
          "text": [
            "TRAIN size: 838860\n",
            "TEST size: 209716\n"
          ]
        }
      ],
      "source": [
        "df_train, df_test = train_test_split(df, test_size=1-TRAIN_SIZE, random_state=42)\n",
        "print(\"TRAIN size:\", len(df_train))\n",
        "print(\"TEST size:\", len(df_test))"
      ]
    },
    {
      "cell_type": "code",
      "execution_count": null,
      "metadata": {
        "colab": {
          "base_uri": "https://localhost:8080/"
        },
        "id": "MduPYCef8rQz",
        "outputId": "709b4045-0668-4f1f-ada4-e5c1f4ec047f"
      },
      "outputs": [
        {
          "name": "stdout",
          "output_type": "stream",
          "text": [
            "CPU times: user 1.84 s, sys: 236 ms, total: 2.08 s\n",
            "Wall time: 2.07 s\n"
          ]
        }
      ],
      "source": [
        "%%time\n",
        "documents = [_text.split() for _text in df_train.text] "
      ]
    },
    {
      "cell_type": "code",
      "execution_count": null,
      "metadata": {
        "colab": {
          "base_uri": "https://localhost:8080/"
        },
        "id": "lPlQTHOe8uuk",
        "outputId": "f2ee4229-23a1-4e95-e15e-6a68e474d9c3"
      },
      "outputs": [
        {
          "name": "stderr",
          "output_type": "stream",
          "text": [
            "2021-11-18 05:30:38,139 : INFO : Word2Vec lifecycle event {'params': 'Word2Vec(vocab=0, vector_size=300, alpha=0.025)', 'datetime': '2021-11-18T05:30:38.139211', 'gensim': '4.1.2', 'python': '3.7.12 (default, Sep 10 2021, 00:21:48) \\n[GCC 7.5.0]', 'platform': 'Linux-5.4.104+-x86_64-with-Ubuntu-18.04-bionic', 'event': 'created'}\n"
          ]
        }
      ],
      "source": [
        "w2v_model = gensim.models.word2vec.Word2Vec(vector_size=W2V_SIZE,\n",
        "                                            window=W2V_WINDOW, \n",
        "                                            min_count=W2V_MIN_COUNT, \n",
        "                                            workers=8)"
      ]
    },
    {
      "cell_type": "code",
      "execution_count": null,
      "metadata": {
        "colab": {
          "base_uri": "https://localhost:8080/"
        },
        "id": "4Z0U84pf8xQD",
        "outputId": "c5a7f79e-0a8c-439c-d088-3fb501900690"
      },
      "outputs": [
        {
          "name": "stderr",
          "output_type": "stream",
          "text": [
            "2021-11-18 05:30:38,149 : INFO : collecting all words and their counts\n",
            "2021-11-18 05:30:38,151 : INFO : PROGRESS: at sentence #0, processed 0 words, keeping 0 word types\n",
            "2021-11-18 05:30:38,186 : INFO : PROGRESS: at sentence #10000, processed 73104 words, keeping 13623 word types\n",
            "2021-11-18 05:30:38,211 : INFO : PROGRESS: at sentence #20000, processed 146981 words, keeping 20993 word types\n",
            "2021-11-18 05:30:38,234 : INFO : PROGRESS: at sentence #30000, processed 219193 words, keeping 26962 word types\n",
            "2021-11-18 05:30:38,262 : INFO : PROGRESS: at sentence #40000, processed 292064 words, keeping 31950 word types\n",
            "2021-11-18 05:30:38,286 : INFO : PROGRESS: at sentence #50000, processed 365698 words, keeping 36559 word types\n",
            "2021-11-18 05:30:38,314 : INFO : PROGRESS: at sentence #60000, processed 439216 words, keeping 40946 word types\n",
            "2021-11-18 05:30:38,343 : INFO : PROGRESS: at sentence #70000, processed 511927 words, keeping 44983 word types\n",
            "2021-11-18 05:30:38,369 : INFO : PROGRESS: at sentence #80000, processed 584915 words, keeping 48864 word types\n",
            "2021-11-18 05:30:38,400 : INFO : PROGRESS: at sentence #90000, processed 657752 words, keeping 52569 word types\n",
            "2021-11-18 05:30:38,429 : INFO : PROGRESS: at sentence #100000, processed 730411 words, keeping 56110 word types\n",
            "2021-11-18 05:30:38,455 : INFO : PROGRESS: at sentence #110000, processed 803340 words, keeping 59628 word types\n",
            "2021-11-18 05:30:38,483 : INFO : PROGRESS: at sentence #120000, processed 875969 words, keeping 62736 word types\n",
            "2021-11-18 05:30:38,511 : INFO : PROGRESS: at sentence #130000, processed 948747 words, keeping 65847 word types\n",
            "2021-11-18 05:30:38,538 : INFO : PROGRESS: at sentence #140000, processed 1021583 words, keeping 68907 word types\n",
            "2021-11-18 05:30:38,567 : INFO : PROGRESS: at sentence #150000, processed 1094655 words, keeping 71796 word types\n",
            "2021-11-18 05:30:38,605 : INFO : PROGRESS: at sentence #160000, processed 1167469 words, keeping 74727 word types\n",
            "2021-11-18 05:30:38,634 : INFO : PROGRESS: at sentence #170000, processed 1240096 words, keeping 77507 word types\n",
            "2021-11-18 05:30:38,662 : INFO : PROGRESS: at sentence #180000, processed 1313232 words, keeping 80296 word types\n",
            "2021-11-18 05:30:38,689 : INFO : PROGRESS: at sentence #190000, processed 1386857 words, keeping 83110 word types\n",
            "2021-11-18 05:30:38,719 : INFO : PROGRESS: at sentence #200000, processed 1459949 words, keeping 85807 word types\n",
            "2021-11-18 05:30:38,752 : INFO : PROGRESS: at sentence #210000, processed 1531947 words, keeping 88358 word types\n",
            "2021-11-18 05:30:38,780 : INFO : PROGRESS: at sentence #220000, processed 1604555 words, keeping 90819 word types\n",
            "2021-11-18 05:30:38,808 : INFO : PROGRESS: at sentence #230000, processed 1677534 words, keeping 93316 word types\n",
            "2021-11-18 05:30:38,834 : INFO : PROGRESS: at sentence #240000, processed 1751295 words, keeping 95894 word types\n",
            "2021-11-18 05:30:38,859 : INFO : PROGRESS: at sentence #250000, processed 1823805 words, keeping 98379 word types\n",
            "2021-11-18 05:30:38,889 : INFO : PROGRESS: at sentence #260000, processed 1896752 words, keeping 100911 word types\n",
            "2021-11-18 05:30:38,917 : INFO : PROGRESS: at sentence #270000, processed 1969031 words, keeping 103348 word types\n",
            "2021-11-18 05:30:38,946 : INFO : PROGRESS: at sentence #280000, processed 2042191 words, keeping 105734 word types\n",
            "2021-11-18 05:30:38,979 : INFO : PROGRESS: at sentence #290000, processed 2114890 words, keeping 108063 word types\n",
            "2021-11-18 05:30:39,005 : INFO : PROGRESS: at sentence #300000, processed 2187390 words, keeping 110371 word types\n",
            "2021-11-18 05:30:39,036 : INFO : PROGRESS: at sentence #310000, processed 2260400 words, keeping 112561 word types\n",
            "2021-11-18 05:30:39,062 : INFO : PROGRESS: at sentence #320000, processed 2333277 words, keeping 114830 word types\n",
            "2021-11-18 05:30:39,087 : INFO : PROGRESS: at sentence #330000, processed 2406079 words, keeping 117120 word types\n",
            "2021-11-18 05:30:39,117 : INFO : PROGRESS: at sentence #340000, processed 2478102 words, keeping 119310 word types\n",
            "2021-11-18 05:30:39,152 : INFO : PROGRESS: at sentence #350000, processed 2550991 words, keeping 121373 word types\n",
            "2021-11-18 05:30:39,178 : INFO : PROGRESS: at sentence #360000, processed 2623391 words, keeping 123506 word types\n",
            "2021-11-18 05:30:39,205 : INFO : PROGRESS: at sentence #370000, processed 2696642 words, keeping 125622 word types\n",
            "2021-11-18 05:30:39,231 : INFO : PROGRESS: at sentence #380000, processed 2769419 words, keeping 127661 word types\n",
            "2021-11-18 05:30:39,257 : INFO : PROGRESS: at sentence #390000, processed 2843330 words, keeping 129844 word types\n",
            "2021-11-18 05:30:39,285 : INFO : PROGRESS: at sentence #400000, processed 2916451 words, keeping 131944 word types\n",
            "2021-11-18 05:30:39,312 : INFO : PROGRESS: at sentence #410000, processed 2989616 words, keeping 134059 word types\n",
            "2021-11-18 05:30:39,337 : INFO : PROGRESS: at sentence #420000, processed 3061991 words, keeping 136044 word types\n",
            "2021-11-18 05:30:39,365 : INFO : PROGRESS: at sentence #430000, processed 3135252 words, keeping 138082 word types\n",
            "2021-11-18 05:30:39,393 : INFO : PROGRESS: at sentence #440000, processed 3207412 words, keeping 140199 word types\n",
            "2021-11-18 05:30:39,419 : INFO : PROGRESS: at sentence #450000, processed 3280752 words, keeping 142160 word types\n",
            "2021-11-18 05:30:39,447 : INFO : PROGRESS: at sentence #460000, processed 3353324 words, keeping 144092 word types\n",
            "2021-11-18 05:30:39,473 : INFO : PROGRESS: at sentence #470000, processed 3426418 words, keeping 146061 word types\n",
            "2021-11-18 05:30:39,502 : INFO : PROGRESS: at sentence #480000, processed 3499026 words, keeping 147981 word types\n",
            "2021-11-18 05:30:39,529 : INFO : PROGRESS: at sentence #490000, processed 3571748 words, keeping 149894 word types\n",
            "2021-11-18 05:30:39,556 : INFO : PROGRESS: at sentence #500000, processed 3644886 words, keeping 151748 word types\n",
            "2021-11-18 05:30:39,586 : INFO : PROGRESS: at sentence #510000, processed 3717474 words, keeping 153692 word types\n",
            "2021-11-18 05:30:39,613 : INFO : PROGRESS: at sentence #520000, processed 3790468 words, keeping 155536 word types\n",
            "2021-11-18 05:30:39,642 : INFO : PROGRESS: at sentence #530000, processed 3863624 words, keeping 157382 word types\n",
            "2021-11-18 05:30:39,671 : INFO : PROGRESS: at sentence #540000, processed 3936303 words, keeping 159202 word types\n",
            "2021-11-18 05:30:39,699 : INFO : PROGRESS: at sentence #550000, processed 4008990 words, keeping 161117 word types\n",
            "2021-11-18 05:30:39,728 : INFO : PROGRESS: at sentence #560000, processed 4081833 words, keeping 162941 word types\n",
            "2021-11-18 05:30:39,753 : INFO : PROGRESS: at sentence #570000, processed 4155283 words, keeping 164786 word types\n",
            "2021-11-18 05:30:39,778 : INFO : PROGRESS: at sentence #580000, processed 4228226 words, keeping 166593 word types\n",
            "2021-11-18 05:30:39,802 : INFO : PROGRESS: at sentence #590000, processed 4301610 words, keeping 168418 word types\n",
            "2021-11-18 05:30:39,837 : INFO : PROGRESS: at sentence #600000, processed 4374559 words, keeping 170156 word types\n",
            "2021-11-18 05:30:39,874 : INFO : PROGRESS: at sentence #610000, processed 4448000 words, keeping 172015 word types\n",
            "2021-11-18 05:30:39,902 : INFO : PROGRESS: at sentence #620000, processed 4520378 words, keeping 173759 word types\n",
            "2021-11-18 05:30:39,933 : INFO : PROGRESS: at sentence #630000, processed 4593175 words, keeping 175468 word types\n",
            "2021-11-18 05:30:39,959 : INFO : PROGRESS: at sentence #640000, processed 4666254 words, keeping 177236 word types\n",
            "2021-11-18 05:30:39,986 : INFO : PROGRESS: at sentence #650000, processed 4739062 words, keeping 178978 word types\n",
            "2021-11-18 05:30:40,013 : INFO : PROGRESS: at sentence #660000, processed 4811768 words, keeping 180756 word types\n",
            "2021-11-18 05:30:40,039 : INFO : PROGRESS: at sentence #670000, processed 4884376 words, keeping 182481 word types\n",
            "2021-11-18 05:30:40,066 : INFO : PROGRESS: at sentence #680000, processed 4956078 words, keeping 184200 word types\n",
            "2021-11-18 05:30:40,100 : INFO : PROGRESS: at sentence #690000, processed 5028736 words, keeping 185893 word types\n",
            "2021-11-18 05:30:40,131 : INFO : PROGRESS: at sentence #700000, processed 5101256 words, keeping 187618 word types\n",
            "2021-11-18 05:30:40,166 : INFO : PROGRESS: at sentence #710000, processed 5174769 words, keeping 189393 word types\n",
            "2021-11-18 05:30:40,193 : INFO : PROGRESS: at sentence #720000, processed 5247317 words, keeping 191084 word types\n",
            "2021-11-18 05:30:40,218 : INFO : PROGRESS: at sentence #730000, processed 5320145 words, keeping 192784 word types\n",
            "2021-11-18 05:30:40,244 : INFO : PROGRESS: at sentence #740000, processed 5392872 words, keeping 194366 word types\n",
            "2021-11-18 05:30:40,270 : INFO : PROGRESS: at sentence #750000, processed 5465242 words, keeping 195907 word types\n",
            "2021-11-18 05:30:40,302 : INFO : PROGRESS: at sentence #760000, processed 5538386 words, keeping 197539 word types\n",
            "2021-11-18 05:30:40,330 : INFO : PROGRESS: at sentence #770000, processed 5610534 words, keeping 199207 word types\n",
            "2021-11-18 05:30:40,357 : INFO : PROGRESS: at sentence #780000, processed 5683279 words, keeping 200851 word types\n",
            "2021-11-18 05:30:40,388 : INFO : PROGRESS: at sentence #790000, processed 5755735 words, keeping 202541 word types\n",
            "2021-11-18 05:30:40,418 : INFO : PROGRESS: at sentence #800000, processed 5828327 words, keeping 204150 word types\n",
            "2021-11-18 05:30:40,447 : INFO : PROGRESS: at sentence #810000, processed 5902054 words, keeping 205737 word types\n",
            "2021-11-18 05:30:40,476 : INFO : PROGRESS: at sentence #820000, processed 5974889 words, keeping 207296 word types\n",
            "2021-11-18 05:30:40,506 : INFO : PROGRESS: at sentence #830000, processed 6047070 words, keeping 208814 word types\n",
            "2021-11-18 05:30:40,534 : INFO : collected 210155 word types from a corpus of 6110838 raw words and 838860 sentences\n",
            "2021-11-18 05:30:40,536 : INFO : Creating a fresh vocabulary\n",
            "2021-11-18 05:30:40,737 : INFO : Word2Vec lifecycle event {'msg': 'effective_min_count=10 retains 23396 unique words (11.132735361994719%% of original 210155, drops 186759)', 'datetime': '2021-11-18T05:30:40.737537', 'gensim': '4.1.2', 'python': '3.7.12 (default, Sep 10 2021, 00:21:48) \\n[GCC 7.5.0]', 'platform': 'Linux-5.4.104+-x86_64-with-Ubuntu-18.04-bionic', 'event': 'prepare_vocab'}\n",
            "2021-11-18 05:30:40,739 : INFO : Word2Vec lifecycle event {'msg': 'effective_min_count=10 leaves 5784967 word corpus (94.66732713254713%% of original 6110838, drops 325871)', 'datetime': '2021-11-18T05:30:40.739346', 'gensim': '4.1.2', 'python': '3.7.12 (default, Sep 10 2021, 00:21:48) \\n[GCC 7.5.0]', 'platform': 'Linux-5.4.104+-x86_64-with-Ubuntu-18.04-bionic', 'event': 'prepare_vocab'}\n",
            "2021-11-18 05:30:40,911 : INFO : deleting the raw counts dictionary of 210155 items\n",
            "2021-11-18 05:30:40,919 : INFO : sample=0.001 downsamples 46 most-common words\n",
            "2021-11-18 05:30:40,921 : INFO : Word2Vec lifecycle event {'msg': 'downsampling leaves estimated 5399431.740260973 word corpus (93.3%% of prior 5784967)', 'datetime': '2021-11-18T05:30:40.921221', 'gensim': '4.1.2', 'python': '3.7.12 (default, Sep 10 2021, 00:21:48) \\n[GCC 7.5.0]', 'platform': 'Linux-5.4.104+-x86_64-with-Ubuntu-18.04-bionic', 'event': 'prepare_vocab'}\n",
            "2021-11-18 05:30:41,203 : INFO : estimated required memory for 23396 words and 300 dimensions: 67848400 bytes\n",
            "2021-11-18 05:30:41,204 : INFO : resetting layer weights\n",
            "2021-11-18 05:30:41,261 : INFO : Word2Vec lifecycle event {'update': False, 'trim_rule': 'None', 'datetime': '2021-11-18T05:30:41.261305', 'gensim': '4.1.2', 'python': '3.7.12 (default, Sep 10 2021, 00:21:48) \\n[GCC 7.5.0]', 'platform': 'Linux-5.4.104+-x86_64-with-Ubuntu-18.04-bionic', 'event': 'build_vocab'}\n"
          ]
        }
      ],
      "source": [
        "w2v_model.build_vocab(documents)"
      ]
    },
    {
      "cell_type": "code",
      "execution_count": null,
      "metadata": {
        "colab": {
          "base_uri": "https://localhost:8080/"
        },
        "id": "kORtvH0292jP",
        "outputId": "7782a266-1241-4ea4-fefe-1763f765c8fe"
      },
      "outputs": [
        {
          "name": "stdout",
          "output_type": "stream",
          "text": [
            "Vocab size 23396\n"
          ]
        }
      ],
      "source": [
        " words = list(w2v_model.wv.index_to_key)\n",
        "vocab_size = len(words)\n",
        "print(\"Vocab size\", vocab_size)"
      ]
    },
    {
      "cell_type": "code",
      "execution_count": null,
      "metadata": {
        "colab": {
          "base_uri": "https://localhost:8080/"
        },
        "id": "yH1im8Hd99Mc",
        "outputId": "5ab40424-7295-4de6-923b-f91ef36fbfa8"
      },
      "outputs": [
        {
          "name": "stderr",
          "output_type": "stream",
          "text": [
            "2021-11-18 05:30:41,293 : INFO : Word2Vec lifecycle event {'msg': 'training model with 8 workers on 23396 vocabulary and 300 features, using sg=0 hs=0 sample=0.001 negative=5 window=7 shrink_windows=True', 'datetime': '2021-11-18T05:30:41.293480', 'gensim': '4.1.2', 'python': '3.7.12 (default, Sep 10 2021, 00:21:48) \\n[GCC 7.5.0]', 'platform': 'Linux-5.4.104+-x86_64-with-Ubuntu-18.04-bionic', 'event': 'train'}\n",
            "2021-11-18 05:30:42,312 : INFO : EPOCH 1 - PROGRESS: at 6.03% examples, 326390 words/s, in_qsize 13, out_qsize 0\n",
            "2021-11-18 05:30:43,326 : INFO : EPOCH 1 - PROGRESS: at 12.56% examples, 337298 words/s, in_qsize 16, out_qsize 0\n",
            "2021-11-18 05:30:44,341 : INFO : EPOCH 1 - PROGRESS: at 19.27% examples, 343767 words/s, in_qsize 12, out_qsize 3\n",
            "2021-11-18 05:30:45,389 : INFO : EPOCH 1 - PROGRESS: at 26.79% examples, 355172 words/s, in_qsize 13, out_qsize 2\n",
            "2021-11-18 05:30:46,417 : INFO : EPOCH 1 - PROGRESS: at 33.82% examples, 357956 words/s, in_qsize 16, out_qsize 1\n",
            "2021-11-18 05:30:47,464 : INFO : EPOCH 1 - PROGRESS: at 40.87% examples, 358829 words/s, in_qsize 16, out_qsize 0\n",
            "2021-11-18 05:30:48,492 : INFO : EPOCH 1 - PROGRESS: at 47.72% examples, 359689 words/s, in_qsize 15, out_qsize 5\n",
            "2021-11-18 05:30:49,502 : INFO : EPOCH 1 - PROGRESS: at 54.59% examples, 360135 words/s, in_qsize 14, out_qsize 2\n",
            "2021-11-18 05:30:50,526 : INFO : EPOCH 1 - PROGRESS: at 62.12% examples, 364210 words/s, in_qsize 15, out_qsize 0\n",
            "2021-11-18 05:30:51,537 : INFO : EPOCH 1 - PROGRESS: at 68.81% examples, 363607 words/s, in_qsize 15, out_qsize 0\n",
            "2021-11-18 05:30:52,567 : INFO : EPOCH 1 - PROGRESS: at 75.35% examples, 361702 words/s, in_qsize 15, out_qsize 0\n",
            "2021-11-18 05:30:53,589 : INFO : EPOCH 1 - PROGRESS: at 82.24% examples, 361963 words/s, in_qsize 16, out_qsize 2\n",
            "2021-11-18 05:30:54,591 : INFO : EPOCH 1 - PROGRESS: at 89.28% examples, 363096 words/s, in_qsize 15, out_qsize 0\n",
            "2021-11-18 05:30:55,600 : INFO : EPOCH 1 - PROGRESS: at 96.81% examples, 365886 words/s, in_qsize 15, out_qsize 0\n",
            "2021-11-18 05:30:55,956 : INFO : worker thread finished; awaiting finish of 7 more threads\n",
            "2021-11-18 05:30:55,988 : INFO : worker thread finished; awaiting finish of 6 more threads\n",
            "2021-11-18 05:30:55,998 : INFO : worker thread finished; awaiting finish of 5 more threads\n",
            "2021-11-18 05:30:55,999 : INFO : worker thread finished; awaiting finish of 4 more threads\n",
            "2021-11-18 05:30:56,017 : INFO : worker thread finished; awaiting finish of 3 more threads\n",
            "2021-11-18 05:30:56,020 : INFO : worker thread finished; awaiting finish of 2 more threads\n",
            "2021-11-18 05:30:56,022 : INFO : worker thread finished; awaiting finish of 1 more threads\n",
            "2021-11-18 05:30:56,028 : INFO : worker thread finished; awaiting finish of 0 more threads\n",
            "2021-11-18 05:30:56,029 : INFO : EPOCH - 1 : training on 6110838 raw words (5399108 effective words) took 14.7s, 366835 effective words/s\n",
            "2021-11-18 05:30:57,047 : INFO : EPOCH 2 - PROGRESS: at 5.87% examples, 316151 words/s, in_qsize 12, out_qsize 2\n",
            "2021-11-18 05:30:58,058 : INFO : EPOCH 2 - PROGRESS: at 12.89% examples, 345745 words/s, in_qsize 14, out_qsize 2\n",
            "2021-11-18 05:30:59,091 : INFO : EPOCH 2 - PROGRESS: at 19.92% examples, 355253 words/s, in_qsize 15, out_qsize 1\n",
            "2021-11-18 05:31:00,164 : INFO : EPOCH 2 - PROGRESS: at 27.12% examples, 355606 words/s, in_qsize 13, out_qsize 2\n",
            "2021-11-18 05:31:01,214 : INFO : EPOCH 2 - PROGRESS: at 34.31% examples, 358527 words/s, in_qsize 13, out_qsize 2\n",
            "2021-11-18 05:31:02,252 : INFO : EPOCH 2 - PROGRESS: at 41.85% examples, 364024 words/s, in_qsize 15, out_qsize 0\n",
            "2021-11-18 05:31:03,256 : INFO : EPOCH 2 - PROGRESS: at 48.86% examples, 366016 words/s, in_qsize 13, out_qsize 1\n",
            "2021-11-18 05:31:04,276 : INFO : EPOCH 2 - PROGRESS: at 55.57% examples, 364648 words/s, in_qsize 15, out_qsize 0\n",
            "2021-11-18 05:31:05,285 : INFO : EPOCH 2 - PROGRESS: at 62.60% examples, 365910 words/s, in_qsize 15, out_qsize 0\n",
            "2021-11-18 05:31:06,286 : INFO : EPOCH 2 - PROGRESS: at 69.14% examples, 364664 words/s, in_qsize 15, out_qsize 1\n",
            "2021-11-18 05:31:07,287 : INFO : EPOCH 2 - PROGRESS: at 76.15% examples, 365955 words/s, in_qsize 16, out_qsize 0\n",
            "2021-11-18 05:31:08,310 : INFO : EPOCH 2 - PROGRESS: at 83.06% examples, 365661 words/s, in_qsize 15, out_qsize 0\n",
            "2021-11-18 05:31:09,318 : INFO : EPOCH 2 - PROGRESS: at 89.93% examples, 365843 words/s, in_qsize 15, out_qsize 1\n",
            "2021-11-18 05:31:10,348 : INFO : EPOCH 2 - PROGRESS: at 96.97% examples, 366058 words/s, in_qsize 16, out_qsize 0\n",
            "2021-11-18 05:31:10,599 : INFO : worker thread finished; awaiting finish of 7 more threads\n",
            "2021-11-18 05:31:10,622 : INFO : worker thread finished; awaiting finish of 6 more threads\n",
            "2021-11-18 05:31:10,631 : INFO : worker thread finished; awaiting finish of 5 more threads\n",
            "2021-11-18 05:31:10,636 : INFO : worker thread finished; awaiting finish of 4 more threads\n",
            "2021-11-18 05:31:10,653 : INFO : worker thread finished; awaiting finish of 3 more threads\n",
            "2021-11-18 05:31:10,655 : INFO : worker thread finished; awaiting finish of 2 more threads\n",
            "2021-11-18 05:31:10,656 : INFO : worker thread finished; awaiting finish of 1 more threads\n",
            "2021-11-18 05:31:10,662 : INFO : worker thread finished; awaiting finish of 0 more threads\n",
            "2021-11-18 05:31:10,664 : INFO : EPOCH - 2 : training on 6110838 raw words (5399034 effective words) took 14.6s, 369237 effective words/s\n",
            "2021-11-18 05:31:11,757 : INFO : EPOCH 3 - PROGRESS: at 6.35% examples, 319281 words/s, in_qsize 15, out_qsize 0\n",
            "2021-11-18 05:31:12,850 : INFO : EPOCH 3 - PROGRESS: at 13.71% examples, 341259 words/s, in_qsize 16, out_qsize 2\n",
            "2021-11-18 05:31:13,974 : INFO : EPOCH 3 - PROGRESS: at 21.39% examples, 350936 words/s, in_qsize 15, out_qsize 0\n",
            "2021-11-18 05:31:15,012 : INFO : EPOCH 3 - PROGRESS: at 28.58% examples, 356574 words/s, in_qsize 15, out_qsize 1\n",
            "2021-11-18 05:31:16,045 : INFO : EPOCH 3 - PROGRESS: at 35.95% examples, 362015 words/s, in_qsize 15, out_qsize 0\n",
            "2021-11-18 05:31:17,052 : INFO : EPOCH 3 - PROGRESS: at 43.00% examples, 364491 words/s, in_qsize 15, out_qsize 0\n",
            "2021-11-18 05:31:18,063 : INFO : EPOCH 3 - PROGRESS: at 49.68% examples, 363615 words/s, in_qsize 15, out_qsize 0\n",
            "2021-11-18 05:31:19,102 : INFO : EPOCH 3 - PROGRESS: at 56.72% examples, 363818 words/s, in_qsize 15, out_qsize 0\n",
            "2021-11-18 05:31:20,120 : INFO : EPOCH 3 - PROGRESS: at 63.92% examples, 365777 words/s, in_qsize 15, out_qsize 0\n",
            "2021-11-18 05:31:21,147 : INFO : EPOCH 3 - PROGRESS: at 70.44% examples, 364108 words/s, in_qsize 15, out_qsize 6\n",
            "2021-11-18 05:31:22,150 : INFO : EPOCH 3 - PROGRESS: at 77.63% examples, 365723 words/s, in_qsize 13, out_qsize 2\n",
            "2021-11-18 05:31:23,179 : INFO : EPOCH 3 - PROGRESS: at 85.02% examples, 367380 words/s, in_qsize 16, out_qsize 0\n",
            "2021-11-18 05:31:24,202 : INFO : EPOCH 3 - PROGRESS: at 92.08% examples, 367779 words/s, in_qsize 16, out_qsize 3\n",
            "2021-11-18 05:31:25,128 : INFO : worker thread finished; awaiting finish of 7 more threads\n",
            "2021-11-18 05:31:25,131 : INFO : worker thread finished; awaiting finish of 6 more threads\n",
            "2021-11-18 05:31:25,173 : INFO : worker thread finished; awaiting finish of 5 more threads\n",
            "2021-11-18 05:31:25,194 : INFO : worker thread finished; awaiting finish of 4 more threads\n",
            "2021-11-18 05:31:25,206 : INFO : EPOCH 3 - PROGRESS: at 99.50% examples, 369867 words/s, in_qsize 3, out_qsize 1\n",
            "2021-11-18 05:31:25,207 : INFO : worker thread finished; awaiting finish of 3 more threads\n",
            "2021-11-18 05:31:25,214 : INFO : worker thread finished; awaiting finish of 2 more threads\n",
            "2021-11-18 05:31:25,217 : INFO : worker thread finished; awaiting finish of 1 more threads\n",
            "2021-11-18 05:31:25,229 : INFO : worker thread finished; awaiting finish of 0 more threads\n",
            "2021-11-18 05:31:25,230 : INFO : EPOCH - 3 : training on 6110838 raw words (5399477 effective words) took 14.6s, 371069 effective words/s\n",
            "2021-11-18 05:31:26,273 : INFO : EPOCH 4 - PROGRESS: at 6.03% examples, 317070 words/s, in_qsize 15, out_qsize 0\n",
            "2021-11-18 05:31:27,280 : INFO : EPOCH 4 - PROGRESS: at 13.71% examples, 363787 words/s, in_qsize 16, out_qsize 0\n",
            "2021-11-18 05:31:28,329 : INFO : EPOCH 4 - PROGRESS: at 20.42% examples, 357565 words/s, in_qsize 15, out_qsize 0\n",
            "2021-11-18 05:31:29,438 : INFO : EPOCH 4 - PROGRESS: at 27.77% examples, 357928 words/s, in_qsize 15, out_qsize 0\n",
            "2021-11-18 05:31:30,439 : INFO : EPOCH 4 - PROGRESS: at 34.64% examples, 360307 words/s, in_qsize 15, out_qsize 0\n",
            "2021-11-18 05:31:31,442 : INFO : EPOCH 4 - PROGRESS: at 41.86% examples, 364705 words/s, in_qsize 14, out_qsize 0\n",
            "2021-11-18 05:31:32,442 : INFO : EPOCH 4 - PROGRESS: at 48.70% examples, 365550 words/s, in_qsize 15, out_qsize 0\n",
            "2021-11-18 05:31:33,487 : INFO : EPOCH 4 - PROGRESS: at 55.57% examples, 364231 words/s, in_qsize 14, out_qsize 1\n",
            "2021-11-18 05:31:34,531 : INFO : EPOCH 4 - PROGRESS: at 62.77% examples, 365143 words/s, in_qsize 16, out_qsize 0\n",
            "2021-11-18 05:31:35,586 : INFO : EPOCH 4 - PROGRESS: at 69.95% examples, 365456 words/s, in_qsize 15, out_qsize 0\n",
            "2021-11-18 05:31:36,603 : INFO : EPOCH 4 - PROGRESS: at 76.48% examples, 363863 words/s, in_qsize 14, out_qsize 1\n",
            "2021-11-18 05:31:37,609 : INFO : EPOCH 4 - PROGRESS: at 83.55% examples, 364941 words/s, in_qsize 15, out_qsize 0\n",
            "2021-11-18 05:31:38,615 : INFO : EPOCH 4 - PROGRESS: at 90.75% examples, 366563 words/s, in_qsize 14, out_qsize 0\n",
            "2021-11-18 05:31:39,619 : INFO : EPOCH 4 - PROGRESS: at 97.31% examples, 365529 words/s, in_qsize 15, out_qsize 0\n",
            "2021-11-18 05:31:39,757 : INFO : worker thread finished; awaiting finish of 7 more threads\n",
            "2021-11-18 05:31:39,830 : INFO : worker thread finished; awaiting finish of 6 more threads\n",
            "2021-11-18 05:31:39,861 : INFO : worker thread finished; awaiting finish of 5 more threads\n",
            "2021-11-18 05:31:39,870 : INFO : worker thread finished; awaiting finish of 4 more threads\n",
            "2021-11-18 05:31:39,882 : INFO : worker thread finished; awaiting finish of 3 more threads\n",
            "2021-11-18 05:31:39,883 : INFO : worker thread finished; awaiting finish of 2 more threads\n",
            "2021-11-18 05:31:39,889 : INFO : worker thread finished; awaiting finish of 1 more threads\n",
            "2021-11-18 05:31:39,897 : INFO : worker thread finished; awaiting finish of 0 more threads\n",
            "2021-11-18 05:31:39,898 : INFO : EPOCH - 4 : training on 6110838 raw words (5399700 effective words) took 14.7s, 368411 effective words/s\n",
            "2021-11-18 05:31:40,922 : INFO : EPOCH 5 - PROGRESS: at 6.03% examples, 324509 words/s, in_qsize 15, out_qsize 0\n",
            "2021-11-18 05:31:42,059 : INFO : EPOCH 5 - PROGRESS: at 13.22% examples, 333553 words/s, in_qsize 13, out_qsize 2\n",
            "2021-11-18 05:31:43,059 : INFO : EPOCH 5 - PROGRESS: at 20.09% examples, 345476 words/s, in_qsize 15, out_qsize 1\n",
            "2021-11-18 05:31:44,067 : INFO : EPOCH 5 - PROGRESS: at 27.28% examples, 355398 words/s, in_qsize 15, out_qsize 0\n",
            "2021-11-18 05:31:45,091 : INFO : EPOCH 5 - PROGRESS: at 33.98% examples, 355052 words/s, in_qsize 16, out_qsize 1\n",
            "2021-11-18 05:31:46,095 : INFO : EPOCH 5 - PROGRESS: at 40.87% examples, 357401 words/s, in_qsize 15, out_qsize 2\n",
            "2021-11-18 05:31:47,114 : INFO : EPOCH 5 - PROGRESS: at 48.21% examples, 362012 words/s, in_qsize 15, out_qsize 0\n",
            "2021-11-18 05:31:48,137 : INFO : EPOCH 5 - PROGRESS: at 55.41% examples, 364261 words/s, in_qsize 15, out_qsize 0\n",
            "2021-11-18 05:31:49,216 : INFO : EPOCH 5 - PROGRESS: at 62.77% examples, 364753 words/s, in_qsize 15, out_qsize 0\n",
            "2021-11-18 05:31:50,234 : INFO : EPOCH 5 - PROGRESS: at 69.29% examples, 362992 words/s, in_qsize 14, out_qsize 1\n",
            "2021-11-18 05:31:51,292 : INFO : EPOCH 5 - PROGRESS: at 76.48% examples, 363376 words/s, in_qsize 15, out_qsize 2\n",
            "2021-11-18 05:31:52,295 : INFO : EPOCH 5 - PROGRESS: at 83.71% examples, 365282 words/s, in_qsize 15, out_qsize 0\n",
            "2021-11-18 05:31:53,298 : INFO : EPOCH 5 - PROGRESS: at 90.92% examples, 366956 words/s, in_qsize 16, out_qsize 0\n",
            "2021-11-18 05:31:54,378 : INFO : EPOCH 5 - PROGRESS: at 98.12% examples, 366412 words/s, in_qsize 12, out_qsize 0\n",
            "2021-11-18 05:31:54,463 : INFO : worker thread finished; awaiting finish of 7 more threads\n",
            "2021-11-18 05:31:54,470 : INFO : worker thread finished; awaiting finish of 6 more threads\n",
            "2021-11-18 05:31:54,471 : INFO : worker thread finished; awaiting finish of 5 more threads\n",
            "2021-11-18 05:31:54,504 : INFO : worker thread finished; awaiting finish of 4 more threads\n",
            "2021-11-18 05:31:54,520 : INFO : worker thread finished; awaiting finish of 3 more threads\n",
            "2021-11-18 05:31:54,533 : INFO : worker thread finished; awaiting finish of 2 more threads\n",
            "2021-11-18 05:31:54,539 : INFO : worker thread finished; awaiting finish of 1 more threads\n",
            "2021-11-18 05:31:54,542 : INFO : worker thread finished; awaiting finish of 0 more threads\n",
            "2021-11-18 05:31:54,545 : INFO : EPOCH - 5 : training on 6110838 raw words (5399922 effective words) took 14.6s, 369095 effective words/s\n",
            "2021-11-18 05:31:54,547 : INFO : Word2Vec lifecycle event {'msg': 'training on 30554190 raw words (26997241 effective words) took 73.3s, 368554 effective words/s', 'datetime': '2021-11-18T05:31:54.547120', 'gensim': '4.1.2', 'python': '3.7.12 (default, Sep 10 2021, 00:21:48) \\n[GCC 7.5.0]', 'platform': 'Linux-5.4.104+-x86_64-with-Ubuntu-18.04-bionic', 'event': 'train'}\n"
          ]
        },
        {
          "name": "stdout",
          "output_type": "stream",
          "text": [
            "CPU times: user 2min 20s, sys: 1.07 s, total: 2min 21s\n",
            "Wall time: 1min 13s\n"
          ]
        },
        {
          "data": {
            "text/plain": [
              "(26997241, 30554190)"
            ]
          },
          "execution_count": 24,
          "metadata": {},
          "output_type": "execute_result"
        }
      ],
      "source": [
        "%%time\n",
        "w2v_model.train(documents, total_examples=len(documents), epochs=5)"
      ]
    },
    {
      "cell_type": "code",
      "execution_count": null,
      "metadata": {
        "colab": {
          "base_uri": "https://localhost:8080/"
        },
        "id": "mPoltOkX-YjM",
        "outputId": "c6a228cc-a56e-4dba-9510-b55654bc853c"
      },
      "outputs": [
        {
          "name": "stdout",
          "output_type": "stream",
          "text": [
            "Total words 210156\n",
            "CPU times: user 12.3 s, sys: 117 ms, total: 12.4 s\n",
            "Wall time: 12.4 s\n"
          ]
        }
      ],
      "source": [
        "%%time\n",
        "tokenizer = Tokenizer()\n",
        "tokenizer.fit_on_texts(df_train.text)\n",
        "\n",
        "vocab_size = len(tokenizer.word_index) + 1\n",
        "print(\"Total words\", vocab_size)"
      ]
    },
    {
      "cell_type": "code",
      "execution_count": null,
      "metadata": {
        "colab": {
          "base_uri": "https://localhost:8080/"
        },
        "id": "r5Gs-YYp_wG5",
        "outputId": "13be6d14-9822-4d25-c99c-df0116b858c3"
      },
      "outputs": [
        {
          "name": "stdout",
          "output_type": "stream",
          "text": [
            "CPU times: user 18.6 s, sys: 734 ms, total: 19.3 s\n",
            "Wall time: 19 s\n"
          ]
        }
      ],
      "source": [
        "%%time\n",
        "x_train = pad_sequences(tokenizer.texts_to_sequences(df_train.text), maxlen=SEQUENCE_LENGTH)\n",
        "x_test = pad_sequences(tokenizer.texts_to_sequences(df_test.text), maxlen=SEQUENCE_LENGTH)"
      ]
    },
    {
      "cell_type": "code",
      "execution_count": null,
      "metadata": {
        "colab": {
          "base_uri": "https://localhost:8080/"
        },
        "id": "RXSG58ViACaH",
        "outputId": "98fed6aa-3149-4586-dd2a-95e76a17fef7"
      },
      "outputs": [
        {
          "data": {
            "text/plain": [
              "['NEGATIVE', 'POSITIVE', 'NEUTRAL']"
            ]
          },
          "execution_count": 27,
          "metadata": {},
          "output_type": "execute_result"
        }
      ],
      "source": [
        "labels = df_train.target.unique().tolist()\n",
        "labels.append(NEUTRAL)\n",
        "labels"
      ]
    },
    {
      "cell_type": "code",
      "execution_count": null,
      "metadata": {
        "colab": {
          "base_uri": "https://localhost:8080/"
        },
        "id": "_Af4jZ-HAIHs",
        "outputId": "b7543c20-f9e9-46b4-dedc-47fccc8da355"
      },
      "outputs": [
        {
          "name": "stdout",
          "output_type": "stream",
          "text": [
            "y_train (838860, 1)\n",
            "y_test (209716, 1)\n"
          ]
        }
      ],
      "source": [
        "encoder = LabelEncoder()\n",
        "encoder.fit(df_train.target.tolist())\n",
        "\n",
        "y_train = encoder.transform(df_train.target.tolist())\n",
        "y_test = encoder.transform(df_test.target.tolist())\n",
        "\n",
        "y_train = y_train.reshape(-1,1)\n",
        "y_test = y_test.reshape(-1,1)\n",
        "\n",
        "print(\"y_train\",y_train.shape)\n",
        "print(\"y_test\",y_test.shape)"
      ]
    },
    {
      "cell_type": "code",
      "execution_count": null,
      "metadata": {
        "colab": {
          "base_uri": "https://localhost:8080/"
        },
        "id": "N8PZDcg-AhfL",
        "outputId": "b5f37dbc-8de1-48b8-a612-577aa2e9ef0b"
      },
      "outputs": [
        {
          "name": "stdout",
          "output_type": "stream",
          "text": [
            "x_train (838860, 300)\n",
            "y_train (838860, 1)\n",
            "\n",
            "x_test (209716, 300)\n",
            "y_test (209716, 1)\n"
          ]
        }
      ],
      "source": [
        "print(\"x_train\", x_train.shape)\n",
        "print(\"y_train\", y_train.shape)\n",
        "print()\n",
        "print(\"x_test\", x_test.shape)\n",
        "print(\"y_test\", y_test.shape)"
      ]
    },
    {
      "cell_type": "code",
      "execution_count": null,
      "metadata": {
        "colab": {
          "base_uri": "https://localhost:8080/"
        },
        "id": "cEMCiUcYAll-",
        "outputId": "481b0e67-d831-4165-ec8c-02951ad90542"
      },
      "outputs": [
        {
          "data": {
            "text/plain": [
              "array([[0],\n",
              "       [1],\n",
              "       [0],\n",
              "       [0],\n",
              "       [0],\n",
              "       [0],\n",
              "       [0],\n",
              "       [0],\n",
              "       [0],\n",
              "       [0]])"
            ]
          },
          "execution_count": 30,
          "metadata": {},
          "output_type": "execute_result"
        }
      ],
      "source": [
        "y_train[:10]"
      ]
    },
    {
      "cell_type": "code",
      "execution_count": null,
      "metadata": {
        "colab": {
          "base_uri": "https://localhost:8080/"
        },
        "id": "BAiBEaptOAdH",
        "outputId": "b28bbfb9-2ef5-43b5-d387-b97a15fb503c"
      },
      "outputs": [
        {
          "name": "stdout",
          "output_type": "stream",
          "text": [
            "(210156, 300)\n"
          ]
        }
      ],
      "source": [
        "embedding_matrix = np.zeros((vocab_size, W2V_SIZE))\n",
        "for word, i in tokenizer.word_index.items():\n",
        "  if word in w2v_model.wv:\n",
        "    embedding_matrix[i] = w2v_model.wv[word]\n",
        "print(embedding_matrix.shape)"
      ]
    },
    {
      "cell_type": "code",
      "execution_count": null,
      "metadata": {
        "id": "Yo8xvGCaAvC_"
      },
      "outputs": [],
      "source": [
        "embedding_layer = Embedding(vocab_size, W2V_SIZE, weights=[embedding_matrix], input_length=SEQUENCE_LENGTH, trainable=False)"
      ]
    },
    {
      "cell_type": "code",
      "execution_count": null,
      "metadata": {
        "colab": {
          "base_uri": "https://localhost:8080/"
        },
        "id": "0wVhv9v-BCAZ",
        "outputId": "dab8348f-cb9d-4c43-b730-27b318e8d823"
      },
      "outputs": [
        {
          "name": "stdout",
          "output_type": "stream",
          "text": [
            "WARNING:tensorflow:Layer lstm will not use cuDNN kernels since it doesn't meet the criteria. It will use a generic GPU kernel as fallback when running on GPU.\n"
          ]
        },
        {
          "name": "stderr",
          "output_type": "stream",
          "text": [
            "2021-11-18 05:32:33,464 : WARNING : Layer lstm will not use cuDNN kernels since it doesn't meet the criteria. It will use a generic GPU kernel as fallback when running on GPU.\n"
          ]
        },
        {
          "name": "stdout",
          "output_type": "stream",
          "text": [
            "Model: \"sequential\"\n",
            "_________________________________________________________________\n",
            " Layer (type)                Output Shape              Param #   \n",
            "=================================================================\n",
            " embedding (Embedding)       (None, 300, 300)          63046800  \n",
            "                                                                 \n",
            " dropout (Dropout)           (None, 300, 300)          0         \n",
            "                                                                 \n",
            " lstm (LSTM)                 (None, 100)               160400    \n",
            "                                                                 \n",
            " dense (Dense)               (None, 1)                 101       \n",
            "                                                                 \n",
            "=================================================================\n",
            "Total params: 63,207,301\n",
            "Trainable params: 160,501\n",
            "Non-trainable params: 63,046,800\n",
            "_________________________________________________________________\n"
          ]
        }
      ],
      "source": [
        "model = Sequential()\n",
        "model.add(embedding_layer)\n",
        "model.add(Dropout(0.5))\n",
        "model.add(LSTM(100, dropout=0.2, recurrent_dropout=0.2))\n",
        "model.add(Dense(1, activation='sigmoid'))\n",
        "\n",
        "model.summary()"
      ]
    },
    {
      "cell_type": "code",
      "execution_count": null,
      "metadata": {
        "id": "xHePFTxRBFmj"
      },
      "outputs": [],
      "source": [
        "model.compile(loss='binary_crossentropy',\n",
        "              optimizer=\"adam\",\n",
        "              metrics=['accuracy'])"
      ]
    },
    {
      "cell_type": "code",
      "execution_count": null,
      "metadata": {
        "id": "ifSyoQ6DBJcA"
      },
      "outputs": [],
      "source": [
        "callbacks = [ ReduceLROnPlateau(monitor='val_loss', patience=5, cooldown=0),\n",
        "              EarlyStopping(monitor='val_acc', min_delta=1e-4, patience=5)]"
      ]
    },
    {
      "cell_type": "code",
      "execution_count": null,
      "metadata": {
        "colab": {
          "base_uri": "https://localhost:8080/"
        },
        "id": "TzJJODqCBNT0",
        "outputId": "a3e6227d-23ab-4fbd-cd3a-9bd2be32c99c"
      },
      "outputs": [
        {
          "name": "stdout",
          "output_type": "stream",
          "text": [
            "492/492 [==============================] - ETA: 0s - loss: 0.4219 - accuracy: 0.8096WARNING:tensorflow:Early stopping conditioned on metric `val_acc` which is not available. Available metrics are: loss,accuracy,val_loss,val_accuracy,lr\n"
          ]
        },
        {
          "name": "stderr",
          "output_type": "stream",
          "text": [
            "2021-11-18 05:47:30,292 : WARNING : Early stopping conditioned on metric `val_acc` which is not available. Available metrics are: loss,accuracy,val_loss,val_accuracy,lr\n"
          ]
        },
        {
          "name": "stdout",
          "output_type": "stream",
          "text": [
            "\b\b\b\b\b\b\b\b\b\b\b\b\b\b\b\b\b\b\b\b\b\b\b\b\b\b\b\b\b\b\b\b\b\b\b\b\b\b\b\b\b\b\b\b\b\b\b\b\b\b\b\b\b\b\b\b\b\b\b\b\b\b\b\b\b\b\b\b\b\b\b\b\b\b\b\b\b\b\b\b\b\b\b\b\r492/492 [==============================] - 896s 2s/step - loss: 0.4219 - accuracy: 0.8096 - val_loss: 0.3895 - val_accuracy: 0.8254 - lr: 0.0010\n",
            "CPU times: user 20min 9s, sys: 3min 25s, total: 23min 35s\n",
            "Wall time: 15min 25s\n"
          ]
        }
      ],
      "source": [
        "%%time\n",
        "history = model.fit(x_train, y_train,\n",
        "                    batch_size=BATCH_SIZE,\n",
        "                    epochs=1,\n",
        "                    validation_split=0.4,\n",
        "                    verbose=1,\n",
        "                    callbacks=callbacks)"
      ]
    },
    {
      "cell_type": "code",
      "execution_count": null,
      "metadata": {
        "colab": {
          "base_uri": "https://localhost:8080/"
        },
        "id": "W0R7b9M6BQrC",
        "outputId": "0e0360fa-950c-46e3-8dfb-4e82edc9658d"
      },
      "outputs": [
        {
          "name": "stdout",
          "output_type": "stream",
          "text": [
            "205/205 [==============================] - 48s 233ms/step - loss: 0.3882 - accuracy: 0.8272\n",
            "\n",
            "ACCURACY: 0.8272044062614441\n",
            "LOSS: 0.38818076252937317\n",
            "CPU times: user 34.8 s, sys: 9.43 s, total: 44.3 s\n",
            "Wall time: 47.8 s\n"
          ]
        }
      ],
      "source": [
        "%%time\n",
        "score = model.evaluate(x_test, y_test, batch_size=BATCH_SIZE)\n",
        "print()\n",
        "print(\"ACCURACY:\",score[1])\n",
        "print(\"LOSS:\",score[0])"
      ]
    },
    {
      "cell_type": "code",
      "execution_count": null,
      "metadata": {
        "id": "hnCysTqWBaUF"
      },
      "outputs": [],
      "source": [
        "def decode_sentiment(score, include_neutral=True):\n",
        "    if include_neutral:        \n",
        "        label = NEUTRAL\n",
        "        if score <= SENTIMENT_THRESHOLDS[0]:\n",
        "            label = NEGATIVE\n",
        "        elif score >= SENTIMENT_THRESHOLDS[1]:\n",
        "            label = POSITIVE\n",
        "\n",
        "        return label\n",
        "    else:\n",
        "        return NEGATIVE if score < 0.5 else POSITIVE"
      ]
    },
    {
      "cell_type": "code",
      "execution_count": null,
      "metadata": {
        "id": "Ez7f92SABeBX"
      },
      "outputs": [],
      "source": [
        "def predict(text, include_neutral=True):\n",
        "    start_at = time.time()\n",
        "    # Tokenize text\n",
        "    x_test = pad_sequences(tokenizer.texts_to_sequences([text]), maxlen=SEQUENCE_LENGTH)\n",
        "    # Predict\n",
        "    score = model.predict([x_test])[0]\n",
        "    # Decode sentiment\n",
        "    label = decode_sentiment(score, include_neutral=include_neutral)\n",
        "\n",
        "    return {\"label\": label, \"score\": float(score),\n",
        "       \"elapsed_time\": time.time()-start_at}  "
      ]
    },
    {
      "cell_type": "code",
      "execution_count": null,
      "metadata": {
        "colab": {
          "background_save": true,
          "base_uri": "https://localhost:8080/"
        },
        "id": "tq5NzgcXBhTa",
        "outputId": "0f94dff8-9d10-4a12-f557-bdfd443cb703"
      },
      "outputs": [
        {
          "data": {
            "text/plain": [
              "{'elapsed_time': 0.1958293914794922,\n",
              " 'label': 'POSITIVE',\n",
              " 'score': 0.8528914451599121}"
            ]
          },
          "execution_count": null,
          "metadata": {},
          "output_type": "execute_result"
        }
      ],
      "source": [
        "predict(\"covid is real!\")"
      ]
    },
    {
      "cell_type": "code",
      "execution_count": null,
      "metadata": {
        "colab": {
          "base_uri": "https://localhost:8080/"
        },
        "id": "PrCeWvKlBjdT",
        "outputId": "b3c0780c-b483-4f36-cef3-a38c98b2f6ea"
      },
      "outputs": [
        {
          "data": {
            "text/plain": [
              "{'elapsed_time': 0.15865206718444824,\n",
              " 'label': 'NEUTRAL',\n",
              " 'score': 0.5499122142791748}"
            ]
          },
          "execution_count": 46,
          "metadata": {},
          "output_type": "execute_result"
        }
      ],
      "source": [
        "\n",
        "\n",
        "predict(\"covid vaccines are good\")"
      ]
    },
    {
      "cell_type": "code",
      "execution_count": null,
      "metadata": {
        "colab": {
          "background_save": true,
          "base_uri": "https://localhost:8080/"
        },
        "id": "OXF1SeIsBmwW",
        "outputId": "35e218ad-3c35-429b-ed46-52463f3d1ea4"
      },
      "outputs": [
        {
          "data": {
            "text/plain": [
              "{'elapsed_time': 0.16440653800964355,\n",
              " 'label': 'NEGATIVE',\n",
              " 'score': 0.30039331316947937}"
            ]
          },
          "execution_count": null,
          "metadata": {},
          "output_type": "execute_result"
        }
      ],
      "source": [
        "predict(\"depression is real\")"
      ]
    },
    {
      "cell_type": "code",
      "execution_count": null,
      "metadata": {
        "colab": {
          "base_uri": "https://localhost:8080/"
        },
        "id": "mg9z3Rf9R36R",
        "outputId": "f30bcbc2-9830-414d-c8fd-b568efe30860"
      },
      "outputs": [
        {
          "name": "stdout",
          "output_type": "stream",
          "text": [
            "27/27 [==============================] - 30s 1s/step\n",
            "CPU times: user 18.5 s, sys: 12.3 s, total: 30.8 s\n",
            "Wall time: 41.6 s\n"
          ]
        }
      ],
      "source": [
        "%%time\n",
        "y_pred_1d = []\n",
        "y_test_1d = list(df_test.target)\n",
        "scores = model.predict(x_test, verbose=1, batch_size=8000)\n",
        "y_pred_1d = [decode_sentiment(score, include_neutral=False) for score in scores]"
      ]
    },
    {
      "cell_type": "code",
      "execution_count": null,
      "metadata": {
        "colab": {
          "base_uri": "https://localhost:8080/"
        },
        "id": "CDtpaUkXSDZ8",
        "outputId": "54ff5ce9-4543-4a42-d7f6-dcb190d0de2f"
      },
      "outputs": [
        {
          "data": {
            "text/plain": [
              "0.8272044097732171"
            ]
          },
          "execution_count": 44,
          "metadata": {},
          "output_type": "execute_result"
        }
      ],
      "source": [
        "accuracy_score(y_test_1d, y_pred_1d)"
      ]
    },
    {
      "cell_type": "code",
      "execution_count": null,
      "metadata": {
        "colab": {
          "base_uri": "https://localhost:8080/"
        },
        "id": "1hXAIJi1SIbR",
        "outputId": "37eefe11-ab33-41ca-88e9-9dbc4c1d1273"
      },
      "outputs": [
        {
          "name": "stdout",
          "output_type": "stream",
          "text": [
            "model saved!!!\n"
          ]
        }
      ],
      "source": [
        "model.save(\"/content/drive/MyDrive/sentiment/my_model.h5\") #using h5 extension\n",
        "print(\"model saved!!!\")"
      ]
    },
    {
      "cell_type": "code",
      "execution_count": null,
      "metadata": {
        "id": "9ZeNYjkVPT6N"
      },
      "outputs": [],
      "source": [
        ""
      ]
    }
  ],
  "metadata": {
    "accelerator": "GPU",
    "colab": {
      "collapsed_sections": [],
      "name": "sentimentmodel.ipynb",
      "provenance": []
    },
    "kernelspec": {
      "display_name": "Python 3",
      "name": "python3"
    },
    "language_info": {
      "name": "python"
    }
  },
  "nbformat": 4,
  "nbformat_minor": 0
}